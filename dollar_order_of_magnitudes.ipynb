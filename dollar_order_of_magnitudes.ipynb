{
 "cells": [
  {
   "cell_type": "code",
   "execution_count": 1,
   "metadata": {},
   "outputs": [],
   "source": [
    "import plotly\n",
    "import plotly.express as px\n",
    "import numpy as np\n",
    "import pandas as pd\n",
    "import math\n"
   ]
  },
  {
   "cell_type": "code",
   "execution_count": 2,
   "metadata": {},
   "outputs": [
    {
     "data": {
      "text/html": [
       "<div>\n",
       "<style scoped>\n",
       "    .dataframe tbody tr th:only-of-type {\n",
       "        vertical-align: middle;\n",
       "    }\n",
       "\n",
       "    .dataframe tbody tr th {\n",
       "        vertical-align: top;\n",
       "    }\n",
       "\n",
       "    .dataframe thead th {\n",
       "        text-align: right;\n",
       "    }\n",
       "</style>\n",
       "<table border=\"1\" class=\"dataframe\">\n",
       "  <thead>\n",
       "    <tr style=\"text-align: right;\">\n",
       "      <th></th>\n",
       "      <th>Thing</th>\n",
       "      <th>Approximate $ amount</th>\n",
       "      <th>10^x</th>\n",
       "      <th>source</th>\n",
       "    </tr>\n",
       "  </thead>\n",
       "  <tbody>\n",
       "    <tr>\n",
       "      <th>0</th>\n",
       "      <td>World GDP, 2024, current US $</td>\n",
       "      <td>109000000000000</td>\n",
       "      <td>14</td>\n",
       "      <td>https://www.imf.org/external/datamapper/NGDPD@...</td>\n",
       "    </tr>\n",
       "    <tr>\n",
       "      <th>1</th>\n",
       "      <td>US GDP, 2024, current US $</td>\n",
       "      <td>29000000000000</td>\n",
       "      <td>13</td>\n",
       "      <td>https://www.imf.org/external/datamapper/NGDPD@...</td>\n",
       "    </tr>\n",
       "    <tr>\n",
       "      <th>2</th>\n",
       "      <td>Cost of Covid-19 to the US economy by end of 2023</td>\n",
       "      <td>14000000000000</td>\n",
       "      <td>13</td>\n",
       "      <td>https://healthpolicy.usc.edu/article/covid-19s...</td>\n",
       "    </tr>\n",
       "    <tr>\n",
       "      <th>3</th>\n",
       "      <td>Nvidia market cap (as of April 1)</td>\n",
       "      <td>2260000000000</td>\n",
       "      <td>12</td>\n",
       "      <td>https://www.fool.com/research/largest-companie...</td>\n",
       "    </tr>\n",
       "    <tr>\n",
       "      <th>4</th>\n",
       "      <td>Total US student loan debt as of Sept. 2023</td>\n",
       "      <td>1740000000000</td>\n",
       "      <td>12</td>\n",
       "      <td>https://www.nerdwallet.com/article/loans/stude...</td>\n",
       "    </tr>\n",
       "  </tbody>\n",
       "</table>\n",
       "</div>"
      ],
      "text/plain": [
       "                                               Thing  Approximate $ amount  \\\n",
       "0                      World GDP, 2024, current US $       109000000000000   \n",
       "1                         US GDP, 2024, current US $        29000000000000   \n",
       "2  Cost of Covid-19 to the US economy by end of 2023        14000000000000   \n",
       "3                  Nvidia market cap (as of April 1)         2260000000000   \n",
       "4        Total US student loan debt as of Sept. 2023         1740000000000   \n",
       "\n",
       "   10^x                                             source  \n",
       "0    14  https://www.imf.org/external/datamapper/NGDPD@...  \n",
       "1    13  https://www.imf.org/external/datamapper/NGDPD@...  \n",
       "2    13  https://healthpolicy.usc.edu/article/covid-19s...  \n",
       "3    12  https://www.fool.com/research/largest-companie...  \n",
       "4    12  https://www.nerdwallet.com/article/loans/stude...  "
      ]
     },
     "execution_count": 2,
     "metadata": {},
     "output_type": "execute_result"
    }
   ],
   "source": [
    "df = pd.read_csv(\"ooms.csv\", thousands=\",\")\n",
    "df.head()"
   ]
  },
  {
   "cell_type": "code",
   "execution_count": 183,
   "metadata": {},
   "outputs": [
    {
     "data": {
      "application/vnd.plotly.v1+json": {
       "config": {
        "plotlyServerURL": "https://plot.ly"
       },
       "data": [
        {
         "alignmentgroup": "True",
         "hovertemplate": "%{x} <br>%{y}",
         "legendgroup": "",
         "marker": {
          "color": [
           "#93CEF0",
           "#639EC0",
           "#93CEF0",
           "#639EC0",
           "#639EC0",
           "#93CEF0",
           "#639EC0",
           "#93CEF0",
           "#639EC0",
           "#639EC0",
           "#639EC0",
           "#639EC0",
           "#93CEF0",
           "#639EC0",
           "#639EC0",
           "#639EC0",
           "#93CEF0",
           "#639EC0",
           "#639EC0",
           "#93CEF0",
           "#639EC0"
          ],
          "pattern": {
           "shape": ""
          }
         },
         "name": "",
         "offsetgroup": "",
         "orientation": "v",
         "showlegend": false,
         "textposition": "auto",
         "texttemplate": "%{y}",
         "type": "bar",
         "x": [
          "World GDP, 2024, current US $",
          "US GDP, 2024, current US $",
          "Cost of Covid-19 to the US economy by end of 2023",
          "Nvidia market cap (as of April 1)",
          "Total US student loan debt as of Sept. 2023",
          "Elon Musk Net Worth",
          "Cost to build the ISS",
          "Political spending in the 2020 election",
          "US almond industry revenue in 2019",
          "Amount owed by FTX to customers",
          "Biggest Powerball jackpot",
          "Total GiveWell grants as of 2023",
          "Cost to train Gemini Ultra",
          "Most expensive painting (Salvator Mundi by Leonardo da Vinci",
          "Most expensive violin (Messiah Stradivari)",
          "Super Bowl ad slot in 2024",
          "Cost of training GPT-3",
          "Median US home price June 2023",
          "US GDP per capita, current US $",
          "Cost of saving a life estimated by Givewell (2021)",
          "Sub-Saharan Africa GDP per capita, current US $"
         ],
         "xaxis": "x",
         "y": [
          109000000000000,
          29000000000000,
          14000000000000,
          2260000000000,
          1740000000000,
          179000000000,
          150000000000,
          14400000000,
          12000000000,
          8700000000,
          2040000000,
          2000000000,
          630000000,
          450000000,
          20000000,
          7000000,
          691000,
          426000,
          85000,
          4500,
          1600
         ],
         "yaxis": "y"
        }
       ],
       "layout": {
        "annotations": [
         {
          "font": {
           "color": "#336E80"
          },
          "showarrow": false,
          "text": "World GDP",
          "x": "World GDP, 2024, current US $",
          "xanchor": "left",
          "xshift": -25,
          "y": 14.037426497940622,
          "yanchor": "bottom"
         },
         {
          "font": {
           "color": "#336E80"
          },
          "showarrow": false,
          "text": "",
          "x": "US GDP, 2024, current US $",
          "xanchor": "left",
          "xshift": -25,
          "y": 13.462397997898954,
          "yanchor": "bottom"
         },
         {
          "font": {
           "color": "#336E80"
          },
          "showarrow": false,
          "text": "Economic cost of Covid-19",
          "x": "Cost of Covid-19 to the US economy by end of 2023",
          "xanchor": "left",
          "xshift": -25,
          "y": 13.146128035678236,
          "yanchor": "bottom"
         },
         {
          "font": {
           "color": "#336E80"
          },
          "showarrow": false,
          "text": "",
          "x": "Nvidia market cap (as of April 1)",
          "xanchor": "left",
          "xshift": -25,
          "y": 12.3541084391474,
          "yanchor": "bottom"
         },
         {
          "font": {
           "color": "#336E80"
          },
          "showarrow": false,
          "text": "",
          "x": "Total US student loan debt as of Sept. 2023",
          "xanchor": "left",
          "xshift": -25,
          "y": 12.2405492482826,
          "yanchor": "bottom"
         },
         {
          "font": {
           "color": "#336E80"
          },
          "showarrow": false,
          "text": "Elon Musk's Net Worth",
          "x": "Elon Musk Net Worth",
          "xanchor": "left",
          "xshift": -25,
          "y": 11.252853030979892,
          "yanchor": "bottom"
         },
         {
          "font": {
           "color": "#336E80"
          },
          "showarrow": false,
          "text": "",
          "x": "Cost to build the ISS",
          "xanchor": "left",
          "xshift": -25,
          "y": 11.176091259055681,
          "yanchor": "bottom"
         },
         {
          "font": {
           "color": "#336E80"
          },
          "showarrow": false,
          "text": "Political spending in the 2020 election",
          "x": "Political spending in the 2020 election",
          "xanchor": "left",
          "xshift": -25,
          "y": 10.158362492095248,
          "yanchor": "bottom"
         },
         {
          "font": {
           "color": "#336E80"
          },
          "showarrow": false,
          "text": "",
          "x": "US almond industry revenue in 2019",
          "xanchor": "left",
          "xshift": -25,
          "y": 10.079181246047623,
          "yanchor": "bottom"
         },
         {
          "font": {
           "color": "#336E80"
          },
          "showarrow": false,
          "text": "",
          "x": "Amount owed by FTX to customers",
          "xanchor": "left",
          "xshift": -25,
          "y": 9.939519252618618,
          "yanchor": "bottom"
         },
         {
          "font": {
           "color": "#336E80"
          },
          "showarrow": false,
          "text": "",
          "x": "Biggest Powerball jackpot",
          "xanchor": "left",
          "xshift": -25,
          "y": 9.3096301674259,
          "yanchor": "bottom"
         },
         {
          "font": {
           "color": "#336E80"
          },
          "showarrow": false,
          "text": "",
          "x": "Total GiveWell grants as of 2023",
          "xanchor": "left",
          "xshift": -25,
          "y": 9.301029995663981,
          "yanchor": "bottom"
         },
         {
          "font": {
           "color": "#336E80"
          },
          "showarrow": false,
          "text": "Cost to train Gemini Ultra",
          "x": "Cost to train Gemini Ultra",
          "xanchor": "left",
          "xshift": -25,
          "y": 8.799340549453582,
          "yanchor": "bottom"
         },
         {
          "font": {
           "color": "#336E80"
          },
          "showarrow": false,
          "text": "",
          "x": "Most expensive painting (Salvator Mundi by Leonardo da Vinci",
          "xanchor": "left",
          "xshift": -25,
          "y": 8.653212513775342,
          "yanchor": "bottom"
         },
         {
          "font": {
           "color": "#336E80"
          },
          "showarrow": false,
          "text": "",
          "x": "Most expensive violin (Messiah Stradivari)",
          "xanchor": "left",
          "xshift": -25,
          "y": 7.30102999566398,
          "yanchor": "bottom"
         },
         {
          "font": {
           "color": "#336E80"
          },
          "showarrow": false,
          "text": "",
          "x": "Super Bowl ad slot in 2024",
          "xanchor": "left",
          "xshift": -25,
          "y": 6.845098040014256,
          "yanchor": "bottom"
         },
         {
          "font": {
           "color": "#336E80"
          },
          "showarrow": false,
          "text": "Cost to train GPT-3",
          "x": "Cost of training GPT-3",
          "xanchor": "left",
          "xshift": -25,
          "y": 5.839478047374198,
          "yanchor": "bottom"
         },
         {
          "font": {
           "color": "#336E80"
          },
          "showarrow": false,
          "text": "",
          "x": "Median US home price June 2023",
          "xanchor": "left",
          "xshift": -25,
          "y": 5.629409599102718,
          "yanchor": "bottom"
         },
         {
          "font": {
           "color": "#336E80"
          },
          "showarrow": false,
          "text": "",
          "x": "US GDP per capita, current US $",
          "xanchor": "left",
          "xshift": -25,
          "y": 4.929418925714292,
          "yanchor": "bottom"
         },
         {
          "font": {
           "color": "#336E80"
          },
          "showarrow": false,
          "text": "Cost to save a life",
          "x": "Cost of saving a life estimated by Givewell (2021)",
          "xanchor": "left",
          "xshift": -25,
          "y": 3.6532125137753435,
          "yanchor": "bottom"
         },
         {
          "font": {
           "color": "#336E80"
          },
          "showarrow": false,
          "text": "",
          "x": "Sub-Saharan Africa GDP per capita, current US $",
          "xanchor": "left",
          "xshift": -25,
          "y": 3.2041199826559246,
          "yanchor": "bottom"
         },
         {
          "font": {
           "color": "black",
           "size": 14
          },
          "showarrow": false,
          "text": "Hover over the bars to see more things and how much they cost!",
          "xanchor": "center",
          "xref": "x domain",
          "yanchor": "bottom",
          "yref": "y domain",
          "yshift": -250
         }
        ],
        "barmode": "relative",
        "height": 600,
        "legend": {
         "tracegroupgap": 0
        },
        "paper_bgcolor": "#F3EDE6",
        "plot_bgcolor": "#FAF5ED",
        "showlegend": false,
        "template": {
         "data": {
          "bar": [
           {
            "error_x": {
             "color": "#2a3f5f"
            },
            "error_y": {
             "color": "#2a3f5f"
            },
            "marker": {
             "line": {
              "color": "#E5ECF6",
              "width": 0.5
             },
             "pattern": {
              "fillmode": "overlay",
              "size": 10,
              "solidity": 0.2
             }
            },
            "type": "bar"
           }
          ],
          "barpolar": [
           {
            "marker": {
             "line": {
              "color": "#E5ECF6",
              "width": 0.5
             },
             "pattern": {
              "fillmode": "overlay",
              "size": 10,
              "solidity": 0.2
             }
            },
            "type": "barpolar"
           }
          ],
          "carpet": [
           {
            "aaxis": {
             "endlinecolor": "#2a3f5f",
             "gridcolor": "white",
             "linecolor": "white",
             "minorgridcolor": "white",
             "startlinecolor": "#2a3f5f"
            },
            "baxis": {
             "endlinecolor": "#2a3f5f",
             "gridcolor": "white",
             "linecolor": "white",
             "minorgridcolor": "white",
             "startlinecolor": "#2a3f5f"
            },
            "type": "carpet"
           }
          ],
          "choropleth": [
           {
            "colorbar": {
             "outlinewidth": 0,
             "ticks": ""
            },
            "type": "choropleth"
           }
          ],
          "contour": [
           {
            "colorbar": {
             "outlinewidth": 0,
             "ticks": ""
            },
            "colorscale": [
             [
              0,
              "#0d0887"
             ],
             [
              0.1111111111111111,
              "#46039f"
             ],
             [
              0.2222222222222222,
              "#7201a8"
             ],
             [
              0.3333333333333333,
              "#9c179e"
             ],
             [
              0.4444444444444444,
              "#bd3786"
             ],
             [
              0.5555555555555556,
              "#d8576b"
             ],
             [
              0.6666666666666666,
              "#ed7953"
             ],
             [
              0.7777777777777778,
              "#fb9f3a"
             ],
             [
              0.8888888888888888,
              "#fdca26"
             ],
             [
              1,
              "#f0f921"
             ]
            ],
            "type": "contour"
           }
          ],
          "contourcarpet": [
           {
            "colorbar": {
             "outlinewidth": 0,
             "ticks": ""
            },
            "type": "contourcarpet"
           }
          ],
          "heatmap": [
           {
            "colorbar": {
             "outlinewidth": 0,
             "ticks": ""
            },
            "colorscale": [
             [
              0,
              "#0d0887"
             ],
             [
              0.1111111111111111,
              "#46039f"
             ],
             [
              0.2222222222222222,
              "#7201a8"
             ],
             [
              0.3333333333333333,
              "#9c179e"
             ],
             [
              0.4444444444444444,
              "#bd3786"
             ],
             [
              0.5555555555555556,
              "#d8576b"
             ],
             [
              0.6666666666666666,
              "#ed7953"
             ],
             [
              0.7777777777777778,
              "#fb9f3a"
             ],
             [
              0.8888888888888888,
              "#fdca26"
             ],
             [
              1,
              "#f0f921"
             ]
            ],
            "type": "heatmap"
           }
          ],
          "heatmapgl": [
           {
            "colorbar": {
             "outlinewidth": 0,
             "ticks": ""
            },
            "colorscale": [
             [
              0,
              "#0d0887"
             ],
             [
              0.1111111111111111,
              "#46039f"
             ],
             [
              0.2222222222222222,
              "#7201a8"
             ],
             [
              0.3333333333333333,
              "#9c179e"
             ],
             [
              0.4444444444444444,
              "#bd3786"
             ],
             [
              0.5555555555555556,
              "#d8576b"
             ],
             [
              0.6666666666666666,
              "#ed7953"
             ],
             [
              0.7777777777777778,
              "#fb9f3a"
             ],
             [
              0.8888888888888888,
              "#fdca26"
             ],
             [
              1,
              "#f0f921"
             ]
            ],
            "type": "heatmapgl"
           }
          ],
          "histogram": [
           {
            "marker": {
             "pattern": {
              "fillmode": "overlay",
              "size": 10,
              "solidity": 0.2
             }
            },
            "type": "histogram"
           }
          ],
          "histogram2d": [
           {
            "colorbar": {
             "outlinewidth": 0,
             "ticks": ""
            },
            "colorscale": [
             [
              0,
              "#0d0887"
             ],
             [
              0.1111111111111111,
              "#46039f"
             ],
             [
              0.2222222222222222,
              "#7201a8"
             ],
             [
              0.3333333333333333,
              "#9c179e"
             ],
             [
              0.4444444444444444,
              "#bd3786"
             ],
             [
              0.5555555555555556,
              "#d8576b"
             ],
             [
              0.6666666666666666,
              "#ed7953"
             ],
             [
              0.7777777777777778,
              "#fb9f3a"
             ],
             [
              0.8888888888888888,
              "#fdca26"
             ],
             [
              1,
              "#f0f921"
             ]
            ],
            "type": "histogram2d"
           }
          ],
          "histogram2dcontour": [
           {
            "colorbar": {
             "outlinewidth": 0,
             "ticks": ""
            },
            "colorscale": [
             [
              0,
              "#0d0887"
             ],
             [
              0.1111111111111111,
              "#46039f"
             ],
             [
              0.2222222222222222,
              "#7201a8"
             ],
             [
              0.3333333333333333,
              "#9c179e"
             ],
             [
              0.4444444444444444,
              "#bd3786"
             ],
             [
              0.5555555555555556,
              "#d8576b"
             ],
             [
              0.6666666666666666,
              "#ed7953"
             ],
             [
              0.7777777777777778,
              "#fb9f3a"
             ],
             [
              0.8888888888888888,
              "#fdca26"
             ],
             [
              1,
              "#f0f921"
             ]
            ],
            "type": "histogram2dcontour"
           }
          ],
          "mesh3d": [
           {
            "colorbar": {
             "outlinewidth": 0,
             "ticks": ""
            },
            "type": "mesh3d"
           }
          ],
          "parcoords": [
           {
            "line": {
             "colorbar": {
              "outlinewidth": 0,
              "ticks": ""
             }
            },
            "type": "parcoords"
           }
          ],
          "pie": [
           {
            "automargin": true,
            "type": "pie"
           }
          ],
          "scatter": [
           {
            "fillpattern": {
             "fillmode": "overlay",
             "size": 10,
             "solidity": 0.2
            },
            "type": "scatter"
           }
          ],
          "scatter3d": [
           {
            "line": {
             "colorbar": {
              "outlinewidth": 0,
              "ticks": ""
             }
            },
            "marker": {
             "colorbar": {
              "outlinewidth": 0,
              "ticks": ""
             }
            },
            "type": "scatter3d"
           }
          ],
          "scattercarpet": [
           {
            "marker": {
             "colorbar": {
              "outlinewidth": 0,
              "ticks": ""
             }
            },
            "type": "scattercarpet"
           }
          ],
          "scattergeo": [
           {
            "marker": {
             "colorbar": {
              "outlinewidth": 0,
              "ticks": ""
             }
            },
            "type": "scattergeo"
           }
          ],
          "scattergl": [
           {
            "marker": {
             "colorbar": {
              "outlinewidth": 0,
              "ticks": ""
             }
            },
            "type": "scattergl"
           }
          ],
          "scattermapbox": [
           {
            "marker": {
             "colorbar": {
              "outlinewidth": 0,
              "ticks": ""
             }
            },
            "type": "scattermapbox"
           }
          ],
          "scatterpolar": [
           {
            "marker": {
             "colorbar": {
              "outlinewidth": 0,
              "ticks": ""
             }
            },
            "type": "scatterpolar"
           }
          ],
          "scatterpolargl": [
           {
            "marker": {
             "colorbar": {
              "outlinewidth": 0,
              "ticks": ""
             }
            },
            "type": "scatterpolargl"
           }
          ],
          "scatterternary": [
           {
            "marker": {
             "colorbar": {
              "outlinewidth": 0,
              "ticks": ""
             }
            },
            "type": "scatterternary"
           }
          ],
          "surface": [
           {
            "colorbar": {
             "outlinewidth": 0,
             "ticks": ""
            },
            "colorscale": [
             [
              0,
              "#0d0887"
             ],
             [
              0.1111111111111111,
              "#46039f"
             ],
             [
              0.2222222222222222,
              "#7201a8"
             ],
             [
              0.3333333333333333,
              "#9c179e"
             ],
             [
              0.4444444444444444,
              "#bd3786"
             ],
             [
              0.5555555555555556,
              "#d8576b"
             ],
             [
              0.6666666666666666,
              "#ed7953"
             ],
             [
              0.7777777777777778,
              "#fb9f3a"
             ],
             [
              0.8888888888888888,
              "#fdca26"
             ],
             [
              1,
              "#f0f921"
             ]
            ],
            "type": "surface"
           }
          ],
          "table": [
           {
            "cells": {
             "fill": {
              "color": "#EBF0F8"
             },
             "line": {
              "color": "white"
             }
            },
            "header": {
             "fill": {
              "color": "#C8D4E3"
             },
             "line": {
              "color": "white"
             }
            },
            "type": "table"
           }
          ]
         },
         "layout": {
          "annotationdefaults": {
           "arrowcolor": "#2a3f5f",
           "arrowhead": 0,
           "arrowwidth": 1
          },
          "autotypenumbers": "strict",
          "coloraxis": {
           "colorbar": {
            "outlinewidth": 0,
            "ticks": ""
           }
          },
          "colorscale": {
           "diverging": [
            [
             0,
             "#8e0152"
            ],
            [
             0.1,
             "#c51b7d"
            ],
            [
             0.2,
             "#de77ae"
            ],
            [
             0.3,
             "#f1b6da"
            ],
            [
             0.4,
             "#fde0ef"
            ],
            [
             0.5,
             "#f7f7f7"
            ],
            [
             0.6,
             "#e6f5d0"
            ],
            [
             0.7,
             "#b8e186"
            ],
            [
             0.8,
             "#7fbc41"
            ],
            [
             0.9,
             "#4d9221"
            ],
            [
             1,
             "#276419"
            ]
           ],
           "sequential": [
            [
             0,
             "#0d0887"
            ],
            [
             0.1111111111111111,
             "#46039f"
            ],
            [
             0.2222222222222222,
             "#7201a8"
            ],
            [
             0.3333333333333333,
             "#9c179e"
            ],
            [
             0.4444444444444444,
             "#bd3786"
            ],
            [
             0.5555555555555556,
             "#d8576b"
            ],
            [
             0.6666666666666666,
             "#ed7953"
            ],
            [
             0.7777777777777778,
             "#fb9f3a"
            ],
            [
             0.8888888888888888,
             "#fdca26"
            ],
            [
             1,
             "#f0f921"
            ]
           ],
           "sequentialminus": [
            [
             0,
             "#0d0887"
            ],
            [
             0.1111111111111111,
             "#46039f"
            ],
            [
             0.2222222222222222,
             "#7201a8"
            ],
            [
             0.3333333333333333,
             "#9c179e"
            ],
            [
             0.4444444444444444,
             "#bd3786"
            ],
            [
             0.5555555555555556,
             "#d8576b"
            ],
            [
             0.6666666666666666,
             "#ed7953"
            ],
            [
             0.7777777777777778,
             "#fb9f3a"
            ],
            [
             0.8888888888888888,
             "#fdca26"
            ],
            [
             1,
             "#f0f921"
            ]
           ]
          },
          "colorway": [
           "#636efa",
           "#EF553B",
           "#00cc96",
           "#ab63fa",
           "#FFA15A",
           "#19d3f3",
           "#FF6692",
           "#B6E880",
           "#FF97FF",
           "#FECB52"
          ],
          "font": {
           "color": "#2a3f5f"
          },
          "geo": {
           "bgcolor": "white",
           "lakecolor": "white",
           "landcolor": "#E5ECF6",
           "showlakes": true,
           "showland": true,
           "subunitcolor": "white"
          },
          "hoverlabel": {
           "align": "left"
          },
          "hovermode": "closest",
          "mapbox": {
           "style": "light"
          },
          "paper_bgcolor": "white",
          "plot_bgcolor": "#E5ECF6",
          "polar": {
           "angularaxis": {
            "gridcolor": "white",
            "linecolor": "white",
            "ticks": ""
           },
           "bgcolor": "#E5ECF6",
           "radialaxis": {
            "gridcolor": "white",
            "linecolor": "white",
            "ticks": ""
           }
          },
          "scene": {
           "xaxis": {
            "backgroundcolor": "#E5ECF6",
            "gridcolor": "white",
            "gridwidth": 2,
            "linecolor": "white",
            "showbackground": true,
            "ticks": "",
            "zerolinecolor": "white"
           },
           "yaxis": {
            "backgroundcolor": "#E5ECF6",
            "gridcolor": "white",
            "gridwidth": 2,
            "linecolor": "white",
            "showbackground": true,
            "ticks": "",
            "zerolinecolor": "white"
           },
           "zaxis": {
            "backgroundcolor": "#E5ECF6",
            "gridcolor": "white",
            "gridwidth": 2,
            "linecolor": "white",
            "showbackground": true,
            "ticks": "",
            "zerolinecolor": "white"
           }
          },
          "shapedefaults": {
           "line": {
            "color": "#2a3f5f"
           }
          },
          "ternary": {
           "aaxis": {
            "gridcolor": "white",
            "linecolor": "white",
            "ticks": ""
           },
           "baxis": {
            "gridcolor": "white",
            "linecolor": "white",
            "ticks": ""
           },
           "bgcolor": "#E5ECF6",
           "caxis": {
            "gridcolor": "white",
            "linecolor": "white",
            "ticks": ""
           }
          },
          "title": {
           "x": 0.05
          },
          "xaxis": {
           "automargin": true,
           "gridcolor": "white",
           "linecolor": "white",
           "ticks": "",
           "title": {
            "standoff": 15
           },
           "zerolinecolor": "white",
           "zerolinewidth": 2
          },
          "yaxis": {
           "automargin": true,
           "gridcolor": "white",
           "linecolor": "white",
           "ticks": "",
           "title": {
            "standoff": 15
           },
           "zerolinecolor": "white",
           "zerolinewidth": 2
          }
         }
        },
        "title": {
         "text": "Comparing Costs Across Domains",
         "x": 0.5
        },
        "width": 1300,
        "xaxis": {
         "anchor": "y",
         "domain": [
          0,
          1
         ],
         "showticklabels": false,
         "title": {
          "text": ""
         }
        },
        "yaxis": {
         "anchor": "x",
         "domain": [
          0,
          1
         ],
         "gridcolor": "#F3EDE6",
         "gridwidth": 4,
         "ticktext": [
          "1K",
          "10K",
          "100K",
          "1M",
          "10M",
          "100M",
          "1B",
          "10B",
          "100B",
          "1T",
          "10T",
          "100T"
         ],
         "tickvals": [
          1000,
          10000,
          100000,
          1000000,
          10000000,
          100000000,
          1000000000,
          10000000000,
          100000000000,
          1000000000000,
          10000000000000,
          100000000000000
         ],
         "title": {
          "text": "Approximate $ amount"
         },
         "type": "log"
        }
       }
      }
     },
     "metadata": {},
     "output_type": "display_data"
    }
   ],
   "source": [
    "# chart is too crowded, choose to highlight just a few interesting bars with simplified annotation\n",
    "important_labels = {\"World GDP, 2024, current US $\": \"World GDP\", \n",
    "                    \"Cost to train Gemini Ultra\": \"Cost to train Gemini Ultra\", \n",
    "                    \"Cost of training GPT-3\": \"Cost to train GPT-3\", \n",
    "                    \"Cost of saving a life estimated by Givewell (2021)\": \"Cost to save a life\", \n",
    "                    \"Cost of Covid-19 to the US economy by end of 2023\": \"Economic cost of Covid-19\", \n",
    "                    \"Political spending in the 2020 election\": \"Political spending in the 2020 election\",\n",
    "                    \"Elon Musk Net Worth\": \"Elon Musk's Net Worth\"}\n",
    "annotations = []\n",
    "for index, row in df.iterrows():\n",
    "    annotations.append(\n",
    "        dict(\n",
    "            xanchor=\"left\",\n",
    "            yanchor=\"bottom\",\n",
    "            xshift=-25,\n",
    "            text=important_labels.get(row[\"Thing\"]) if row[\"Thing\"] in important_labels.keys() else \"\", \n",
    "            x=row[\"Thing\"], \n",
    "            y=math.log(row[\"Approximate $ amount\"], 10),\n",
    "            showarrow=False, \n",
    "            font=dict(color=\"#336E80\"),\n",
    "        )\n",
    "    )\n",
    "fig = px.bar(df, \n",
    "             x=df[\"Thing\"], \n",
    "             y=\"Approximate $ amount\", \n",
    "             log_y=True, \n",
    "             title=\"Comparing Costs Across Domains\", \n",
    "             text_auto=True)\n",
    "fig.update_layout(\n",
    "    width=1300, \n",
    "    height=600, \n",
    "    yaxis=dict(\n",
    "        tickvals=[10**i for i in range(3, 15)],\n",
    "        ticktext=[\"1K\", \"10K\", \"100K\", \"1M\", \"10M\", \"100M\", \"1B\", \"10B\", \"100B\", \"1T\", \"10T\", \"100T\"] \n",
    "    ), \n",
    "    annotations=annotations,\n",
    "    showlegend=False,\n",
    "    xaxis_title=\"\",\n",
    "    title_x=.5,\n",
    "    plot_bgcolor=\"#FAF5ED\",\n",
    "    paper_bgcolor=\"#F3EDE6\",\n",
    "    yaxis_gridcolor=\"#F3EDE6\", \n",
    "    yaxis_gridwidth=4\n",
    ")\n",
    "fig.add_annotation(\n",
    "    xref=\"x domain\",\n",
    "    yref=\"y domain\",\n",
    "    yshift=-250,\n",
    "    text=\"Hover over the bars to see more things and how much they cost!\",\n",
    "    showarrow=False,\n",
    "    font=dict(size=14, color=\"black\"),\n",
    "    xanchor=\"center\",\n",
    "    yanchor=\"bottom\"\n",
    ")\n",
    "fig.update_traces(hovertemplate=\"%{x} <br>%{y}\")\n",
    "fig.update_traces(marker_color=[\"#93CEF0\" if row[\"Thing\"] in important_labels.keys() else \"#639EC0\" for idx, row in df.iterrows()])\n",
    "fig.update_xaxes(showticklabels=False)\n",
    "fig.show()"
   ]
  },
  {
   "cell_type": "code",
   "execution_count": null,
   "metadata": {},
   "outputs": [],
   "source": []
  }
 ],
 "metadata": {
  "kernelspec": {
   "display_name": "myenv",
   "language": "python",
   "name": "python3"
  },
  "language_info": {
   "codemirror_mode": {
    "name": "ipython",
    "version": 3
   },
   "file_extension": ".py",
   "mimetype": "text/x-python",
   "name": "python",
   "nbconvert_exporter": "python",
   "pygments_lexer": "ipython3",
   "version": "3.11.5"
  }
 },
 "nbformat": 4,
 "nbformat_minor": 2
}
